{
 "cells": [
  {
   "cell_type": "markdown",
   "metadata": {},
   "source": [
    "# File descriptions\n",
    "\n",
    "## Main Datasets\n",
    "- sales_train.csv - the training set. Daily historical data from January 2013 to October 2015.\n",
    "- test.csv - the test set. You need to forecast the sales for these shops and products for November 2015.\n",
    "- sample_submission.csv - a sample submission file in the correct format.\n",
    "\n",
    "## Supplemental information about the items / products\n",
    "- items.csv - supplemental information about the items/products.\n",
    "- item_categories.csv  - supplemental information about the items categories.\n",
    "- shops.csv- supplemental information about the shops.\n",
    "\n",
    "### hints\n",
    "- https://www.kaggle.com/homiarafarhana/predict-future-sales#LightGBM"
   ]
  },
  {
   "cell_type": "code",
   "execution_count": 1,
   "metadata": {},
   "outputs": [],
   "source": [
    "import pandas as pd\n",
    "import numpy as np"
   ]
  },
  {
   "cell_type": "markdown",
   "metadata": {},
   "source": [
    "## Adding Supplemental Information\n",
    "- items.csv - supplemental information about the items/products.\n",
    "- item_categories.csv  - supplemental information about the items categories.\n",
    "- shops.csv- supplemental information about the shops."
   ]
  },
  {
   "cell_type": "code",
   "execution_count": 2,
   "metadata": {},
   "outputs": [
    {
     "name": "stdout",
     "output_type": "stream",
     "text": [
      "Linhas, Colunas (22170, 3)\n"
     ]
    }
   ],
   "source": [
    "df_items = pd.read_csv(\"data/items.csv\")\n",
    "print(\"Linhas, Colunas\",df_items.shape)\n",
    "#df_items.head(2)"
   ]
  },
  {
   "cell_type": "code",
   "execution_count": 3,
   "metadata": {},
   "outputs": [
    {
     "name": "stdout",
     "output_type": "stream",
     "text": [
      "Linhas, Colunas (84, 2)\n"
     ]
    }
   ],
   "source": [
    "df_item_categories = pd.read_csv(\"data/item_categories.csv\")\n",
    "print(\"Linhas, Colunas\",df_item_categories.shape)\n",
    "#df_item_categories.head(2)"
   ]
  },
  {
   "cell_type": "code",
   "execution_count": 4,
   "metadata": {},
   "outputs": [
    {
     "name": "stdout",
     "output_type": "stream",
     "text": [
      "Linhas, Colunas (60, 2)\n"
     ]
    }
   ],
   "source": [
    "df_shops = pd.read_csv(\"data/shops.csv\")\n",
    "print(\"Linhas, Colunas\",df_shops.shape)\n",
    "#df_shops.head(2)"
   ]
  },
  {
   "cell_type": "markdown",
   "metadata": {},
   "source": [
    "## Adding Main Datasets\n",
    "\n",
    "- sales_train.csv - the training set. Daily historical data from January 2013 to October 2015.\n",
    "- test.csv - the test set. You need to forecast the sales for these shops and products for November 2015.\n",
    "- sample_submission.csv - a sample submission file in the correct format."
   ]
  },
  {
   "cell_type": "code",
   "execution_count": 5,
   "metadata": {},
   "outputs": [
    {
     "name": "stdout",
     "output_type": "stream",
     "text": [
      "Linhas, Colunas (2935849, 6)\n"
     ]
    }
   ],
   "source": [
    "df_train = pd.read_csv(\"data/sales_train.csv\")\n",
    "print(\"Linhas, Colunas\",df_train.shape)\n",
    "#df_train.head(2)"
   ]
  },
  {
   "cell_type": "code",
   "execution_count": 6,
   "metadata": {},
   "outputs": [
    {
     "name": "stdout",
     "output_type": "stream",
     "text": [
      "Linhas, Colunas (214200, 3)\n"
     ]
    }
   ],
   "source": [
    "df_test = pd.read_csv(\"data/test.csv\")\n",
    "print(\"Linhas, Colunas\",df_test.shape)\n",
    "#df_test.head(2)"
   ]
  },
  {
   "cell_type": "markdown",
   "metadata": {},
   "source": [
    "# Objective\n",
    "## We are asking you to predict total sales for every product and store in the next month. "
   ]
  },
  {
   "cell_type": "code",
   "execution_count": 7,
   "metadata": {},
   "outputs": [
    {
     "name": "stdout",
     "output_type": "stream",
     "text": [
      "List Environment\n",
      "df_item_categories\t df_items\t df_shops\t df_test\t df_train\t np\t pd\t \n",
      "\n",
      "\n",
      "List Environment and show Type and Data/Info\n",
      "Variable             Type         Data/Info\n",
      "-------------------------------------------\n",
      "df_item_categories   DataFrame               item_category_<...>\\n\\n[84 rows x 2 columns]\n",
      "df_items             DataFrame                             <...>n[22170 rows x 3 columns]\n",
      "df_shops             DataFrame                             <...>вль ТЦ \"Альтаир\"       59\n",
      "df_test              DataFrame                ID  shop_id  <...>[214200 rows x 3 columns]\n",
      "df_train             DataFrame                   date  date<...>2935849 rows x 6 columns]\n",
      "np                   module       <module 'numpy' from 'D:\\<...>ges\\\\numpy\\\\__init__.py'>\n",
      "pd                   module       <module 'pandas' from 'D:<...>es\\\\pandas\\\\__init__.py'>\n",
      "\n",
      "\n",
      "List Environment and turn into List\n"
     ]
    },
    {
     "data": {
      "text/plain": [
       "['df_item_categories',\n",
       " 'df_items',\n",
       " 'df_shops',\n",
       " 'df_test',\n",
       " 'df_train',\n",
       " 'np',\n",
       " 'pd']"
      ]
     },
     "execution_count": 7,
     "metadata": {},
     "output_type": "execute_result"
    }
   ],
   "source": [
    "print(\"List Environment\")\n",
    "%who\n",
    "print(\"\")\n",
    "print(\"\")\n",
    "print(\"List Environment and show Type and Data/Info\")\n",
    "%whos\n",
    "print(\"\")\n",
    "print(\"\")\n",
    "print(\"List Environment and turn into List\")\n",
    "%who_ls"
   ]
  },
  {
   "cell_type": "code",
   "execution_count": 8,
   "metadata": {},
   "outputs": [
    {
     "name": "stdout",
     "output_type": "stream",
     "text": [
      "train size 2935849, unique item in train 21807,unique shop in train 60\n",
      "train size 214200, unique item in train 5100,unique shop in train 42\n"
     ]
    }
   ],
   "source": [
    "print(f'train size {df_train.shape[0]}, unique item in train {df_train.item_id.nunique()},unique shop in train {df_train.shop_id.nunique()}')\n",
    "print(f'train size {df_test.shape[0]}, unique item in train {df_test.item_id.nunique()},unique shop in train {df_test.shop_id.nunique()}')"
   ]
  },
  {
   "cell_type": "code",
   "execution_count": 9,
   "metadata": {},
   "outputs": [
    {
     "data": {
      "text/plain": [
       "date              0\n",
       "date_block_num    0\n",
       "shop_id           0\n",
       "item_id           0\n",
       "item_price        0\n",
       "item_cnt_day      0\n",
       "dtype: int64"
      ]
     },
     "execution_count": 9,
     "metadata": {},
     "output_type": "execute_result"
    }
   ],
   "source": [
    "df_train.isnull().sum()"
   ]
  },
  {
   "cell_type": "code",
   "execution_count": 10,
   "metadata": {},
   "outputs": [
    {
     "data": {
      "text/plain": [
       "<AxesSubplot:xlabel='date_block_num'>"
      ]
     },
     "execution_count": 10,
     "metadata": {},
     "output_type": "execute_result"
    },
    {
     "data": {
      "image/png": "[encoded data removed]",
      "text/plain": [
       "<Figure size 432x288 with 1 Axes>"
      ]
     },
     "metadata": {
      "needs_background": "light"
     },
     "output_type": "display_data"
    }
   ],
   "source": [
    "sale_by_month = df_train.groupby('date_block_num')['item_cnt_day'].sum()\n",
    "sale_by_month.plot()"
   ]
  },
  {
   "cell_type": "code",
   "execution_count": 14,
   "metadata": {},
   "outputs": [
    {
     "data": {
      "text/html": [
       "<div>\n",
       "<style scoped>\n",
       "    .dataframe tbody tr th:only-of-type {\n",
       "        vertical-align: middle;\n",
       "    }\n",
       "\n",
       "    .dataframe tbody tr th {\n",
       "        vertical-align: top;\n",
       "    }\n",
       "\n",
       "    .dataframe thead th {\n",
       "        text-align: right;\n",
       "    }\n",
       "</style>\n",
       "<table border=\"1\" class=\"dataframe\">\n",
       "  <thead>\n",
       "    <tr style=\"text-align: right;\">\n",
       "      <th></th>\n",
       "      <th>date</th>\n",
       "      <th>date_block_num</th>\n",
       "      <th>shop_id</th>\n",
       "      <th>item_id</th>\n",
       "      <th>item_price</th>\n",
       "      <th>item_cnt_day</th>\n",
       "    </tr>\n",
       "  </thead>\n",
       "  <tbody>\n",
       "    <tr>\n",
       "      <th>0</th>\n",
       "      <td>02.01.2013</td>\n",
       "      <td>0</td>\n",
       "      <td>59</td>\n",
       "      <td>22154</td>\n",
       "      <td>999.0</td>\n",
       "      <td>1.0</td>\n",
       "    </tr>\n",
       "    <tr>\n",
       "      <th>1</th>\n",
       "      <td>03.01.2013</td>\n",
       "      <td>0</td>\n",
       "      <td>25</td>\n",
       "      <td>2552</td>\n",
       "      <td>899.0</td>\n",
       "      <td>1.0</td>\n",
       "    </tr>\n",
       "  </tbody>\n",
       "</table>\n",
       "</div>"
      ],
      "text/plain": [
       "         date  date_block_num  shop_id  item_id  item_price  item_cnt_day\n",
       "0  02.01.2013               0       59    22154       999.0           1.0\n",
       "1  03.01.2013               0       25     2552       899.0           1.0"
      ]
     },
     "execution_count": 14,
     "metadata": {},
     "output_type": "execute_result"
    }
   ],
   "source": [
    "df_train.head(2)"
   ]
  },
  {
   "cell_type": "code",
   "execution_count": null,
   "metadata": {},
   "outputs": [],
   "source": []
  }
 ],
 "metadata": {
  "kernelspec": {
   "display_name": "Python 3",
   "language": "python",
   "name": "python3"
  },
  "language_info": {
   "codemirror_mode": {
    "name": "ipython",
    "version": 3
   },
   "file_extension": ".py",
   "mimetype": "text/x-python",
   "name": "python",
   "nbconvert_exporter": "python",
   "pygments_lexer": "ipython3",
   "version": "3.8.5"
  }
 },
 "nbformat": 4,
 "nbformat_minor": 4
}
